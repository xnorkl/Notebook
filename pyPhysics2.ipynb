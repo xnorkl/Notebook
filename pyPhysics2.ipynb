{
 "cells": [
  {
   "cell_type": "code",
   "execution_count": 2,
   "metadata": {},
   "outputs": [
    {
     "name": "stdout",
     "output_type": "stream",
     "text": [
      "please enter an integer: -1\n",
      "Negative\n"
     ]
    }
   ],
   "source": [
    "# controlif.py\n",
    "# created by: Thomas Gordon\n",
    "# date: 1-28-19\n",
    "\n",
    "x = int (input(\"please enter an integer: \"))\n",
    "\n",
    "if x < 0:\n",
    "    print ('Negative')\n",
    "\n",
    "elif x == 0:\n",
    "    print ('Zero')\n",
    "\n",
    "elif x == 1: \n",
    "    print ('Positive')\n",
    "\n",
    "else:\n",
    "    x = 10\n",
    "    print ('CHanged to 10')"
   ]
  },
  {
   "cell_type": "code",
   "execution_count": 3,
   "metadata": {},
   "outputs": [
    {
     "name": "stdout",
     "output_type": "stream",
     "text": [
      "please enter an integer: 0\n",
      "Zero\n"
     ]
    }
   ],
   "source": [
    "# controlif.py\n",
    "# created by: Thomas Gordon\n",
    "# date: 1-28-19\n",
    "\n",
    "x = int (input(\"please enter an integer: \"))\n",
    "\n",
    "if x < 0:\n",
    "    print ('Negative')\n",
    "\n",
    "elif x == 0:\n",
    "    print ('Zero')\n",
    "\n",
    "elif x == 1: \n",
    "    print ('Positive')\n",
    "\n",
    "else:\n",
    "    x = 10\n",
    "    print ('CHanged to 10')"
   ]
  },
  {
   "cell_type": "code",
   "execution_count": 4,
   "metadata": {},
   "outputs": [
    {
     "name": "stdout",
     "output_type": "stream",
     "text": [
      "please enter an integer: 1\n",
      "Positive\n"
     ]
    }
   ],
   "source": [
    "# controlif.py\n",
    "# created by: Thomas Gordon\n",
    "# date: 1-28-19\n",
    "\n",
    "x = int (input(\"please enter an integer: \"))\n",
    "\n",
    "if x < 0:\n",
    "    print ('Negative')\n",
    "\n",
    "elif x == 0:\n",
    "    print ('Zero')\n",
    "\n",
    "elif x == 1: \n",
    "    print ('Positive')\n",
    "\n",
    "else:\n",
    "    x = 10\n",
    "    print ('CHanged to 10')"
   ]
  },
  {
   "cell_type": "code",
   "execution_count": null,
   "metadata": {},
   "outputs": [],
   "source": []
  }
 ],
 "metadata": {
  "kernelspec": {
   "display_name": "VPython",
   "language": "python",
   "name": "vpython"
  },
  "language_info": {
   "codemirror_mode": {
    "name": "ipython",
    "version": 3
   },
   "file_extension": ".py",
   "mimetype": "text/x-python",
   "name": "python",
   "nbconvert_exporter": "python",
   "pygments_lexer": "ipython3",
   "version": "3.7.2"
  }
 },
 "nbformat": 4,
 "nbformat_minor": 2
}
